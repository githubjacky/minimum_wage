{
 "cells": [
  {
   "cell_type": "code",
   "execution_count": 27,
   "id": "f9fdfcc8-0336-459b-a736-357270598bc6",
   "metadata": {},
   "outputs": [],
   "source": [
    "source(\"/minimum_wage/src/model/utils.R\")\n",
    "\n",
    "library(parsnip)\n",
    "suppressPackageStartupMessages(library(recipes))\n",
    "library(workflows)\n",
    "library(doParallel)\n",
    "library(dials)\n",
    "library(ggplot2)\n",
    "\n",
    "setwd(\"/minimum_wage/\")"
   ]
  },
  {
   "cell_type": "code",
   "execution_count": 2,
   "id": "f0cbd99b-4bef-4ebb-8b75-f89f60d9c2e1",
   "metadata": {},
   "outputs": [
    {
     "data": {
      "text/plain": [
       "<Training/Testing/Total>\n",
       "<122506/30628/153134>"
      ]
     },
     "metadata": {},
     "output_type": "display_data"
    }
   ],
   "source": [
    "split <- train_test_split()\n",
    "split"
   ]
  },
  {
   "cell_type": "code",
   "execution_count": 3,
   "id": "a01f5096-e5bd-4166-a2f9-8b5cd74d0d47",
   "metadata": {},
   "outputs": [
    {
     "data": {
      "text/plain": [
       "Multinomial Regression Model Specification (classification)\n",
       "\n",
       "Main Arguments:\n",
       "  penalty = tune()\n",
       "  mixture = tune()\n",
       "\n",
       "Computational engine: glmnet \n"
      ]
     },
     "metadata": {},
     "output_type": "display_data"
    }
   ],
   "source": [
    "spec <- multinom_reg(\n",
    "    penalty = tune(), # regularization\n",
    "    mixture = tune() # alpha: ratio of L1 and L2 regularization\n",
    ") |>\n",
    "    parsnip::set_mode(\"classification\") |>\n",
    "    parsnip::set_engine(\"glmnet\")\n",
    "spec"
   ]
  },
  {
   "cell_type": "code",
   "execution_count": 4,
   "id": "bc8e879b-654d-4021-baee-6420f0733dff",
   "metadata": {},
   "outputs": [
    {
     "name": "stderr",
     "output_type": "stream",
     "text": [
      "\n",
      "\n",
      "\u001b[36m──\u001b[39m \u001b[1mRecipe\u001b[22m \u001b[36m──────────────────────────────────────────────────────────────────────\u001b[39m\n",
      "\n",
      "\n",
      "\n",
      "── Inputs \n",
      "\n",
      "Number of variables by role\n",
      "\n",
      "outcome:   1\n",
      "predictor: 5\n",
      "\n",
      "\n",
      "\n",
      "── Operations \n",
      "\n",
      "\u001b[36m•\u001b[39m Factor variables from: \u001b[34mgroup\u001b[39m\n",
      "\n"
     ]
    }
   ],
   "source": [
    "recipe <- recipe(\n",
    "    group ~ countycat + sex + martial + educat + agecat,\n",
    "    data = split\n",
    ") |>\n",
    "    step_num2factor(\n",
    "        group,\n",
    "        levels = c(\"test\", \"control1\", \"control2\")\n",
    "    )\n",
    "recipe"
   ]
  },
  {
   "cell_type": "markdown",
   "id": "36736ffc-cd61-4f71-b0fa-ced5efd54bf1",
   "metadata": {},
   "source": [
    "## normal grid search"
   ]
  },
  {
   "cell_type": "code",
   "execution_count": 19,
   "id": "61d10936-ee4f-4376-a35c-a185479dd5db",
   "metadata": {},
   "outputs": [
    {
     "name": "stdout",
     "output_type": "stream",
     "text": [
      "[1] \"tuning with grid\"\n"
     ]
    },
    {
     "data": {
      "text/html": [
       "<table class=\"dataframe\">\n",
       "<caption>A tibble: 3 × 8</caption>\n",
       "<thead>\n",
       "\t<tr><th scope=col>penalty</th><th scope=col>mixture</th><th scope=col>.metric</th><th scope=col>.estimator</th><th scope=col>mean</th><th scope=col>n</th><th scope=col>std_err</th><th scope=col>.config</th></tr>\n",
       "\t<tr><th scope=col>&lt;dbl&gt;</th><th scope=col>&lt;dbl&gt;</th><th scope=col>&lt;chr&gt;</th><th scope=col>&lt;chr&gt;</th><th scope=col>&lt;dbl&gt;</th><th scope=col>&lt;int&gt;</th><th scope=col>&lt;dbl&gt;</th><th scope=col>&lt;chr&gt;</th></tr>\n",
       "</thead>\n",
       "<tbody>\n",
       "\t<tr><td>2.825418e-02</td><td>0.2637295</td><td>pr_auc</td><td>macro</td><td>0.5423888</td><td>5</td><td>0.0009671534</td><td>Preprocessor1_Model1</td></tr>\n",
       "\t<tr><td>4.053893e-09</td><td>0.4598352</td><td>pr_auc</td><td>macro</td><td>0.5419876</td><td>5</td><td>0.0008655590</td><td>Preprocessor1_Model2</td></tr>\n",
       "\t<tr><td>2.093383e-06</td><td>0.7674104</td><td>pr_auc</td><td>macro</td><td>0.5419483</td><td>5</td><td>0.0008562121</td><td>Preprocessor1_Model3</td></tr>\n",
       "</tbody>\n",
       "</table>\n"
      ],
      "text/latex": [
       "A tibble: 3 × 8\n",
       "\\begin{tabular}{llllllll}\n",
       " penalty & mixture & .metric & .estimator & mean & n & std\\_err & .config\\\\\n",
       " <dbl> & <dbl> & <chr> & <chr> & <dbl> & <int> & <dbl> & <chr>\\\\\n",
       "\\hline\n",
       "\t 2.825418e-02 & 0.2637295 & pr\\_auc & macro & 0.5423888 & 5 & 0.0009671534 & Preprocessor1\\_Model1\\\\\n",
       "\t 4.053893e-09 & 0.4598352 & pr\\_auc & macro & 0.5419876 & 5 & 0.0008655590 & Preprocessor1\\_Model2\\\\\n",
       "\t 2.093383e-06 & 0.7674104 & pr\\_auc & macro & 0.5419483 & 5 & 0.0008562121 & Preprocessor1\\_Model3\\\\\n",
       "\\end{tabular}\n"
      ],
      "text/markdown": [
       "\n",
       "A tibble: 3 × 8\n",
       "\n",
       "| penalty &lt;dbl&gt; | mixture &lt;dbl&gt; | .metric &lt;chr&gt; | .estimator &lt;chr&gt; | mean &lt;dbl&gt; | n &lt;int&gt; | std_err &lt;dbl&gt; | .config &lt;chr&gt; |\n",
       "|---|---|---|---|---|---|---|---|\n",
       "| 2.825418e-02 | 0.2637295 | pr_auc | macro | 0.5423888 | 5 | 0.0009671534 | Preprocessor1_Model1 |\n",
       "| 4.053893e-09 | 0.4598352 | pr_auc | macro | 0.5419876 | 5 | 0.0008655590 | Preprocessor1_Model2 |\n",
       "| 2.093383e-06 | 0.7674104 | pr_auc | macro | 0.5419483 | 5 | 0.0008562121 | Preprocessor1_Model3 |\n",
       "\n"
      ],
      "text/plain": [
       "  penalty      mixture   .metric .estimator mean      n std_err     \n",
       "1 2.825418e-02 0.2637295 pr_auc  macro      0.5423888 5 0.0009671534\n",
       "2 4.053893e-09 0.4598352 pr_auc  macro      0.5419876 5 0.0008655590\n",
       "3 2.093383e-06 0.7674104 pr_auc  macro      0.5419483 5 0.0008562121\n",
       "  .config             \n",
       "1 Preprocessor1_Model1\n",
       "2 Preprocessor1_Model2\n",
       "3 Preprocessor1_Model3"
      ]
     },
     "metadata": {},
     "output_type": "display_data"
    }
   ],
   "source": [
    "wf <- workflow(recipe, spec)\n",
    "grid_res <- tune(training(split), wf, 3)\n",
    "show_best(grid_res)"
   ]
  },
  {
   "cell_type": "code",
   "execution_count": 20,
   "id": "7ef30abc-a0bc-4eab-ab5b-c3e89bb119f5",
   "metadata": {},
   "outputs": [
    {
     "data": {
      "image/png": "[encoded data removed]",
      "text/plain": [
       "plot without title"
      ]
     },
     "metadata": {
      "image/png": {
       "height": 420,
       "width": 420
      }
     },
     "output_type": "display_data"
    }
   ],
   "source": [
    "tune_plot <- autoplot(grid_res)\n",
    "tune_plot"
   ]
  },
  {
   "cell_type": "code",
   "execution_count": 21,
   "id": "5f7c06e7-9f17-485e-8a56-8e055a340c41",
   "metadata": {},
   "outputs": [
    {
     "name": "stderr",
     "output_type": "stream",
     "text": [
      "\u001b[1m\u001b[22mSaving 6.67 x 6.67 in image\n"
     ]
    }
   ],
   "source": [
    "ggsave(tune_plot, filename = \"data/tune/en/test.png\")"
   ]
  },
  {
   "cell_type": "code",
   "execution_count": 24,
   "id": "deb3cfaf-5d3e-4abe-bfae-96f2746e7dd6",
   "metadata": {},
   "outputs": [
    {
     "data": {
      "text/plain": [
       "══ Workflow ════════════════════════════════════════════════════════════════════\n",
       "\u001b[3mPreprocessor:\u001b[23m Recipe\n",
       "\u001b[3mModel:\u001b[23m multinom_reg()\n",
       "\n",
       "── Preprocessor ────────────────────────────────────────────────────────────────\n",
       "1 Recipe Step\n",
       "\n",
       "• step_num2factor()\n",
       "\n",
       "── Model ───────────────────────────────────────────────────────────────────────\n",
       "Multinomial Regression Model Specification (classification)\n",
       "\n",
       "Main Arguments:\n",
       "  penalty = 0.0282541824995641\n",
       "  mixture = 0.263729466823861\n",
       "\n",
       "Computational engine: glmnet \n"
      ]
     },
     "metadata": {},
     "output_type": "display_data"
    }
   ],
   "source": [
    "elastic_net <- finalize_workflow(wf, select_best(grid_res, metric = \"pr_auc\"))\n",
    "elastic_net"
   ]
  },
  {
   "cell_type": "code",
   "execution_count": null,
   "id": "7af05841-eaca-4665-9ff0-cd2aa037d111",
   "metadata": {},
   "outputs": [],
   "source": [
    "last_fit(elastic_net, split = split) "
   ]
  },
  {
   "cell_type": "code",
   "execution_count": 28,
   "id": "add4c939-05e7-4038-82ea-08105d2cac7d",
   "metadata": {},
   "outputs": [
    {
     "data": {
      "text/html": [
       "<table class=\"dataframe\">\n",
       "<caption>A tibble: 30628 × 9</caption>\n",
       "<thead>\n",
       "\t<tr><th scope=col>id</th><th scope=col>.pred_test</th><th scope=col>.pred_control1</th><th scope=col>.pred_control2</th><th scope=col>.row</th><th scope=col>.pred_class</th><th scope=col>group</th><th scope=col>.config</th><th scope=col>model</th></tr>\n",
       "\t<tr><th scope=col>&lt;chr&gt;</th><th scope=col>&lt;dbl&gt;</th><th scope=col>&lt;dbl&gt;</th><th scope=col>&lt;dbl&gt;</th><th scope=col>&lt;int&gt;</th><th scope=col>&lt;fct&gt;</th><th scope=col>&lt;fct&gt;</th><th scope=col>&lt;chr&gt;</th><th scope=col>&lt;chr&gt;</th></tr>\n",
       "</thead>\n",
       "<tbody>\n",
       "\t<tr><td>train/test split</td><td>0.28484746</td><td>0.5287344</td><td>0.18641812</td><td>  8</td><td>control1</td><td>control1</td><td>Preprocessor1_Model1</td><td>elastic_net</td></tr>\n",
       "\t<tr><td>train/test split</td><td>0.41647793</td><td>0.5067304</td><td>0.07679170</td><td> 11</td><td>control1</td><td>control1</td><td>Preprocessor1_Model1</td><td>elastic_net</td></tr>\n",
       "\t<tr><td>train/test split</td><td>0.18945941</td><td>0.4525736</td><td>0.35796695</td><td> 15</td><td>control1</td><td>control1</td><td>Preprocessor1_Model1</td><td>elastic_net</td></tr>\n",
       "\t<tr><td>train/test split</td><td>0.27516776</td><td>0.5073627</td><td>0.21746955</td><td> 16</td><td>control1</td><td>control1</td><td>Preprocessor1_Model1</td><td>elastic_net</td></tr>\n",
       "\t<tr><td>train/test split</td><td>0.23031079</td><td>0.5650728</td><td>0.20461643</td><td> 17</td><td>control1</td><td>control1</td><td>Preprocessor1_Model1</td><td>elastic_net</td></tr>\n",
       "\t<tr><td>train/test split</td><td>0.42381455</td><td>0.5225999</td><td>0.05358557</td><td> 19</td><td>control1</td><td>test    </td><td>Preprocessor1_Model1</td><td>elastic_net</td></tr>\n",
       "\t<tr><td>train/test split</td><td>0.11728537</td><td>0.4360838</td><td>0.44663082</td><td> 23</td><td>control2</td><td>control1</td><td>Preprocessor1_Model1</td><td>elastic_net</td></tr>\n",
       "\t<tr><td>train/test split</td><td>0.04231109</td><td>0.1696844</td><td>0.78800448</td><td> 25</td><td>control2</td><td>control1</td><td>Preprocessor1_Model1</td><td>elastic_net</td></tr>\n",
       "\t<tr><td>train/test split</td><td>0.19142920</td><td>0.3884218</td><td>0.42014900</td><td> 26</td><td>control2</td><td>control1</td><td>Preprocessor1_Model1</td><td>elastic_net</td></tr>\n",
       "\t<tr><td>train/test split</td><td>0.07206429</td><td>0.2968417</td><td>0.63109401</td><td> 38</td><td>control2</td><td>control2</td><td>Preprocessor1_Model1</td><td>elastic_net</td></tr>\n",
       "\t<tr><td>train/test split</td><td>0.16214561</td><td>0.4377939</td><td>0.40006048</td><td> 43</td><td>control1</td><td>control1</td><td>Preprocessor1_Model1</td><td>elastic_net</td></tr>\n",
       "\t<tr><td>train/test split</td><td>0.16214561</td><td>0.4377939</td><td>0.40006048</td><td> 44</td><td>control1</td><td>control2</td><td>Preprocessor1_Model1</td><td>elastic_net</td></tr>\n",
       "\t<tr><td>train/test split</td><td>0.07206429</td><td>0.2968417</td><td>0.63109401</td><td> 53</td><td>control2</td><td>control2</td><td>Preprocessor1_Model1</td><td>elastic_net</td></tr>\n",
       "\t<tr><td>train/test split</td><td>0.32595782</td><td>0.4306379</td><td>0.24340426</td><td> 63</td><td>control1</td><td>test    </td><td>Preprocessor1_Model1</td><td>elastic_net</td></tr>\n",
       "\t<tr><td>train/test split</td><td>0.28484746</td><td>0.5287344</td><td>0.18641812</td><td> 68</td><td>control1</td><td>control1</td><td>Preprocessor1_Model1</td><td>elastic_net</td></tr>\n",
       "\t<tr><td>train/test split</td><td>0.26413577</td><td>0.4837756</td><td>0.25208863</td><td> 74</td><td>control1</td><td>control2</td><td>Preprocessor1_Model1</td><td>elastic_net</td></tr>\n",
       "\t<tr><td>train/test split</td><td>0.04887677</td><td>0.1973307</td><td>0.75379258</td><td>107</td><td>control2</td><td>control2</td><td>Preprocessor1_Model1</td><td>elastic_net</td></tr>\n",
       "\t<tr><td>train/test split</td><td>0.02606376</td><td>0.1637880</td><td>0.81014823</td><td>110</td><td>control2</td><td>control2</td><td>Preprocessor1_Model1</td><td>elastic_net</td></tr>\n",
       "\t<tr><td>train/test split</td><td>0.12513392</td><td>0.3311516</td><td>0.54371451</td><td>111</td><td>control2</td><td>control2</td><td>Preprocessor1_Model1</td><td>elastic_net</td></tr>\n",
       "\t<tr><td>train/test split</td><td>0.12513392</td><td>0.3311516</td><td>0.54371451</td><td>117</td><td>control2</td><td>control2</td><td>Preprocessor1_Model1</td><td>elastic_net</td></tr>\n",
       "\t<tr><td>train/test split</td><td>0.23031079</td><td>0.5650728</td><td>0.20461643</td><td>127</td><td>control1</td><td>control1</td><td>Preprocessor1_Model1</td><td>elastic_net</td></tr>\n",
       "\t<tr><td>train/test split</td><td>0.33917034</td><td>0.4511002</td><td>0.20972949</td><td>128</td><td>control1</td><td>control1</td><td>Preprocessor1_Model1</td><td>elastic_net</td></tr>\n",
       "\t<tr><td>train/test split</td><td>0.35075542</td><td>0.4696386</td><td>0.17960602</td><td>146</td><td>control1</td><td>test    </td><td>Preprocessor1_Model1</td><td>elastic_net</td></tr>\n",
       "\t<tr><td>train/test split</td><td>0.09782729</td><td>0.3589035</td><td>0.54326926</td><td>147</td><td>control2</td><td>control1</td><td>Preprocessor1_Model1</td><td>elastic_net</td></tr>\n",
       "\t<tr><td>train/test split</td><td>0.12712392</td><td>0.3528418</td><td>0.52003426</td><td>152</td><td>control2</td><td>control2</td><td>Preprocessor1_Model1</td><td>elastic_net</td></tr>\n",
       "\t<tr><td>train/test split</td><td>0.05606833</td><td>0.2278841</td><td>0.71604760</td><td>155</td><td>control2</td><td>control2</td><td>Preprocessor1_Model1</td><td>elastic_net</td></tr>\n",
       "\t<tr><td>train/test split</td><td>0.12663845</td><td>0.4740192</td><td>0.39934230</td><td>158</td><td>control1</td><td>control1</td><td>Preprocessor1_Model1</td><td>elastic_net</td></tr>\n",
       "\t<tr><td>train/test split</td><td>0.05606833</td><td>0.2278841</td><td>0.71604760</td><td>164</td><td>control2</td><td>control2</td><td>Preprocessor1_Model1</td><td>elastic_net</td></tr>\n",
       "\t<tr><td>train/test split</td><td>0.23167068</td><td>0.4796001</td><td>0.28872926</td><td>174</td><td>control1</td><td>control1</td><td>Preprocessor1_Model1</td><td>elastic_net</td></tr>\n",
       "\t<tr><td>train/test split</td><td>0.04887677</td><td>0.1973307</td><td>0.75379258</td><td>176</td><td>control2</td><td>control2</td><td>Preprocessor1_Model1</td><td>elastic_net</td></tr>\n",
       "\t<tr><td>⋮</td><td>⋮</td><td>⋮</td><td>⋮</td><td>⋮</td><td>⋮</td><td>⋮</td><td>⋮</td><td>⋮</td></tr>\n",
       "\t<tr><td>train/test split</td><td>0.21201970</td><td>0.5132841</td><td>0.2746962</td><td>152964</td><td>control1</td><td>control2</td><td>Preprocessor1_Model1</td><td>elastic_net</td></tr>\n",
       "\t<tr><td>train/test split</td><td>0.32595782</td><td>0.4306379</td><td>0.2434043</td><td>152969</td><td>control1</td><td>control1</td><td>Preprocessor1_Model1</td><td>elastic_net</td></tr>\n",
       "\t<tr><td>train/test split</td><td>0.06382792</td><td>0.2611628</td><td>0.6750093</td><td>152974</td><td>control2</td><td>control2</td><td>Preprocessor1_Model1</td><td>elastic_net</td></tr>\n",
       "\t<tr><td>train/test split</td><td>0.09782729</td><td>0.3589035</td><td>0.5432693</td><td>152976</td><td>control2</td><td>control1</td><td>Preprocessor1_Model1</td><td>elastic_net</td></tr>\n",
       "\t<tr><td>train/test split</td><td>0.12513392</td><td>0.3311516</td><td>0.5437145</td><td>152981</td><td>control2</td><td>control1</td><td>Preprocessor1_Model1</td><td>elastic_net</td></tr>\n",
       "\t<tr><td>train/test split</td><td>0.10761936</td><td>0.3974773</td><td>0.4949034</td><td>152982</td><td>control2</td><td>control2</td><td>Preprocessor1_Model1</td><td>elastic_net</td></tr>\n",
       "\t<tr><td>train/test split</td><td>0.36075773</td><td>0.4862720</td><td>0.1529703</td><td>152991</td><td>control1</td><td>control1</td><td>Preprocessor1_Model1</td><td>elastic_net</td></tr>\n",
       "\t<tr><td>train/test split</td><td>0.20123215</td><td>0.4839213</td><td>0.3148466</td><td>152994</td><td>control1</td><td>control2</td><td>Preprocessor1_Model1</td><td>elastic_net</td></tr>\n",
       "\t<tr><td>train/test split</td><td>0.04231109</td><td>0.1696844</td><td>0.7880045</td><td>152995</td><td>control2</td><td>test    </td><td>Preprocessor1_Model1</td><td>elastic_net</td></tr>\n",
       "\t<tr><td>train/test split</td><td>0.09782729</td><td>0.3589035</td><td>0.5432693</td><td>152998</td><td>control2</td><td>control2</td><td>Preprocessor1_Model1</td><td>elastic_net</td></tr>\n",
       "\t<tr><td>train/test split</td><td>0.21201970</td><td>0.5132841</td><td>0.2746962</td><td>153003</td><td>control1</td><td>control2</td><td>Preprocessor1_Model1</td><td>elastic_net</td></tr>\n",
       "\t<tr><td>train/test split</td><td>0.20123215</td><td>0.4839213</td><td>0.3148466</td><td>153028</td><td>control1</td><td>test    </td><td>Preprocessor1_Model1</td><td>elastic_net</td></tr>\n",
       "\t<tr><td>train/test split</td><td>0.13924282</td><td>0.3890719</td><td>0.4716853</td><td>153032</td><td>control2</td><td>control2</td><td>Preprocessor1_Model1</td><td>elastic_net</td></tr>\n",
       "\t<tr><td>train/test split</td><td>0.27516776</td><td>0.5073627</td><td>0.2174695</td><td>153035</td><td>control1</td><td>control1</td><td>Preprocessor1_Model1</td><td>elastic_net</td></tr>\n",
       "\t<tr><td>train/test split</td><td>0.11266515</td><td>0.2961673</td><td>0.5911676</td><td>153038</td><td>control2</td><td>control1</td><td>Preprocessor1_Model1</td><td>elastic_net</td></tr>\n",
       "\t<tr><td>train/test split</td><td>0.10761936</td><td>0.3974773</td><td>0.4949034</td><td>153039</td><td>control2</td><td>control2</td><td>Preprocessor1_Model1</td><td>elastic_net</td></tr>\n",
       "\t<tr><td>train/test split</td><td>0.31112883</td><td>0.4083070</td><td>0.2805641</td><td>153045</td><td>control1</td><td>control1</td><td>Preprocessor1_Model1</td><td>elastic_net</td></tr>\n",
       "\t<tr><td>train/test split</td><td>0.36926378</td><td>0.5010771</td><td>0.1296591</td><td>153049</td><td>control1</td><td>control1</td><td>Preprocessor1_Model1</td><td>elastic_net</td></tr>\n",
       "\t<tr><td>train/test split</td><td>0.23031079</td><td>0.5650728</td><td>0.2046164</td><td>153052</td><td>control1</td><td>control1</td><td>Preprocessor1_Model1</td><td>elastic_net</td></tr>\n",
       "\t<tr><td>train/test split</td><td>0.13924282</td><td>0.3890719</td><td>0.4716853</td><td>153055</td><td>control2</td><td>control1</td><td>Preprocessor1_Model1</td><td>elastic_net</td></tr>\n",
       "\t<tr><td>train/test split</td><td>0.18945941</td><td>0.4525736</td><td>0.3579670</td><td>153056</td><td>control1</td><td>control1</td><td>Preprocessor1_Model1</td><td>elastic_net</td></tr>\n",
       "\t<tr><td>train/test split</td><td>0.21201970</td><td>0.5132841</td><td>0.2746962</td><td>153058</td><td>control1</td><td>control1</td><td>Preprocessor1_Model1</td><td>elastic_net</td></tr>\n",
       "\t<tr><td>train/test split</td><td>0.21923038</td><td>0.4508215</td><td>0.3299481</td><td>153068</td><td>control1</td><td>control1</td><td>Preprocessor1_Model1</td><td>elastic_net</td></tr>\n",
       "\t<tr><td>train/test split</td><td>0.07206429</td><td>0.2968417</td><td>0.6310940</td><td>153092</td><td>control2</td><td>control2</td><td>Preprocessor1_Model1</td><td>elastic_net</td></tr>\n",
       "\t<tr><td>train/test split</td><td>0.13924282</td><td>0.3890719</td><td>0.4716853</td><td>153099</td><td>control2</td><td>control1</td><td>Preprocessor1_Model1</td><td>elastic_net</td></tr>\n",
       "\t<tr><td>train/test split</td><td>0.03639779</td><td>0.1449968</td><td>0.8186054</td><td>153104</td><td>control2</td><td>control2</td><td>Preprocessor1_Model1</td><td>elastic_net</td></tr>\n",
       "\t<tr><td>train/test split</td><td>0.06382792</td><td>0.2611628</td><td>0.6750093</td><td>153105</td><td>control2</td><td>control1</td><td>Preprocessor1_Model1</td><td>elastic_net</td></tr>\n",
       "\t<tr><td>train/test split</td><td>0.11498076</td><td>0.3170105</td><td>0.5680087</td><td>153108</td><td>control2</td><td>control2</td><td>Preprocessor1_Model1</td><td>elastic_net</td></tr>\n",
       "\t<tr><td>train/test split</td><td>0.26413577</td><td>0.4837756</td><td>0.2520886</td><td>153116</td><td>control1</td><td>control1</td><td>Preprocessor1_Model1</td><td>elastic_net</td></tr>\n",
       "\t<tr><td>train/test split</td><td>0.13924282</td><td>0.3890719</td><td>0.4716853</td><td>153128</td><td>control2</td><td>control2</td><td>Preprocessor1_Model1</td><td>elastic_net</td></tr>\n",
       "</tbody>\n",
       "</table>\n"
      ],
      "text/latex": [
       "A tibble: 30628 × 9\n",
       "\\begin{tabular}{lllllllll}\n",
       " id & .pred\\_test & .pred\\_control1 & .pred\\_control2 & .row & .pred\\_class & group & .config & model\\\\\n",
       " <chr> & <dbl> & <dbl> & <dbl> & <int> & <fct> & <fct> & <chr> & <chr>\\\\\n",
       "\\hline\n",
       "\t train/test split & 0.28484746 & 0.5287344 & 0.18641812 &   8 & control1 & control1 & Preprocessor1\\_Model1 & elastic\\_net\\\\\n",
       "\t train/test split & 0.41647793 & 0.5067304 & 0.07679170 &  11 & control1 & control1 & Preprocessor1\\_Model1 & elastic\\_net\\\\\n",
       "\t train/test split & 0.18945941 & 0.4525736 & 0.35796695 &  15 & control1 & control1 & Preprocessor1\\_Model1 & elastic\\_net\\\\\n",
       "\t train/test split & 0.27516776 & 0.5073627 & 0.21746955 &  16 & control1 & control1 & Preprocessor1\\_Model1 & elastic\\_net\\\\\n",
       "\t train/test split & 0.23031079 & 0.5650728 & 0.20461643 &  17 & control1 & control1 & Preprocessor1\\_Model1 & elastic\\_net\\\\\n",
       "\t train/test split & 0.42381455 & 0.5225999 & 0.05358557 &  19 & control1 & test     & Preprocessor1\\_Model1 & elastic\\_net\\\\\n",
       "\t train/test split & 0.11728537 & 0.4360838 & 0.44663082 &  23 & control2 & control1 & Preprocessor1\\_Model1 & elastic\\_net\\\\\n",
       "\t train/test split & 0.04231109 & 0.1696844 & 0.78800448 &  25 & control2 & control1 & Preprocessor1\\_Model1 & elastic\\_net\\\\\n",
       "\t train/test split & 0.19142920 & 0.3884218 & 0.42014900 &  26 & control2 & control1 & Preprocessor1\\_Model1 & elastic\\_net\\\\\n",
       "\t train/test split & 0.07206429 & 0.2968417 & 0.63109401 &  38 & control2 & control2 & Preprocessor1\\_Model1 & elastic\\_net\\\\\n",
       "\t train/test split & 0.16214561 & 0.4377939 & 0.40006048 &  43 & control1 & control1 & Preprocessor1\\_Model1 & elastic\\_net\\\\\n",
       "\t train/test split & 0.16214561 & 0.4377939 & 0.40006048 &  44 & control1 & control2 & Preprocessor1\\_Model1 & elastic\\_net\\\\\n",
       "\t train/test split & 0.07206429 & 0.2968417 & 0.63109401 &  53 & control2 & control2 & Preprocessor1\\_Model1 & elastic\\_net\\\\\n",
       "\t train/test split & 0.32595782 & 0.4306379 & 0.24340426 &  63 & control1 & test     & Preprocessor1\\_Model1 & elastic\\_net\\\\\n",
       "\t train/test split & 0.28484746 & 0.5287344 & 0.18641812 &  68 & control1 & control1 & Preprocessor1\\_Model1 & elastic\\_net\\\\\n",
       "\t train/test split & 0.26413577 & 0.4837756 & 0.25208863 &  74 & control1 & control2 & Preprocessor1\\_Model1 & elastic\\_net\\\\\n",
       "\t train/test split & 0.04887677 & 0.1973307 & 0.75379258 & 107 & control2 & control2 & Preprocessor1\\_Model1 & elastic\\_net\\\\\n",
       "\t train/test split & 0.02606376 & 0.1637880 & 0.81014823 & 110 & control2 & control2 & Preprocessor1\\_Model1 & elastic\\_net\\\\\n",
       "\t train/test split & 0.12513392 & 0.3311516 & 0.54371451 & 111 & control2 & control2 & Preprocessor1\\_Model1 & elastic\\_net\\\\\n",
       "\t train/test split & 0.12513392 & 0.3311516 & 0.54371451 & 117 & control2 & control2 & Preprocessor1\\_Model1 & elastic\\_net\\\\\n",
       "\t train/test split & 0.23031079 & 0.5650728 & 0.20461643 & 127 & control1 & control1 & Preprocessor1\\_Model1 & elastic\\_net\\\\\n",
       "\t train/test split & 0.33917034 & 0.4511002 & 0.20972949 & 128 & control1 & control1 & Preprocessor1\\_Model1 & elastic\\_net\\\\\n",
       "\t train/test split & 0.35075542 & 0.4696386 & 0.17960602 & 146 & control1 & test     & Preprocessor1\\_Model1 & elastic\\_net\\\\\n",
       "\t train/test split & 0.09782729 & 0.3589035 & 0.54326926 & 147 & control2 & control1 & Preprocessor1\\_Model1 & elastic\\_net\\\\\n",
       "\t train/test split & 0.12712392 & 0.3528418 & 0.52003426 & 152 & control2 & control2 & Preprocessor1\\_Model1 & elastic\\_net\\\\\n",
       "\t train/test split & 0.05606833 & 0.2278841 & 0.71604760 & 155 & control2 & control2 & Preprocessor1\\_Model1 & elastic\\_net\\\\\n",
       "\t train/test split & 0.12663845 & 0.4740192 & 0.39934230 & 158 & control1 & control1 & Preprocessor1\\_Model1 & elastic\\_net\\\\\n",
       "\t train/test split & 0.05606833 & 0.2278841 & 0.71604760 & 164 & control2 & control2 & Preprocessor1\\_Model1 & elastic\\_net\\\\\n",
       "\t train/test split & 0.23167068 & 0.4796001 & 0.28872926 & 174 & control1 & control1 & Preprocessor1\\_Model1 & elastic\\_net\\\\\n",
       "\t train/test split & 0.04887677 & 0.1973307 & 0.75379258 & 176 & control2 & control2 & Preprocessor1\\_Model1 & elastic\\_net\\\\\n",
       "\t ⋮ & ⋮ & ⋮ & ⋮ & ⋮ & ⋮ & ⋮ & ⋮ & ⋮\\\\\n",
       "\t train/test split & 0.21201970 & 0.5132841 & 0.2746962 & 152964 & control1 & control2 & Preprocessor1\\_Model1 & elastic\\_net\\\\\n",
       "\t train/test split & 0.32595782 & 0.4306379 & 0.2434043 & 152969 & control1 & control1 & Preprocessor1\\_Model1 & elastic\\_net\\\\\n",
       "\t train/test split & 0.06382792 & 0.2611628 & 0.6750093 & 152974 & control2 & control2 & Preprocessor1\\_Model1 & elastic\\_net\\\\\n",
       "\t train/test split & 0.09782729 & 0.3589035 & 0.5432693 & 152976 & control2 & control1 & Preprocessor1\\_Model1 & elastic\\_net\\\\\n",
       "\t train/test split & 0.12513392 & 0.3311516 & 0.5437145 & 152981 & control2 & control1 & Preprocessor1\\_Model1 & elastic\\_net\\\\\n",
       "\t train/test split & 0.10761936 & 0.3974773 & 0.4949034 & 152982 & control2 & control2 & Preprocessor1\\_Model1 & elastic\\_net\\\\\n",
       "\t train/test split & 0.36075773 & 0.4862720 & 0.1529703 & 152991 & control1 & control1 & Preprocessor1\\_Model1 & elastic\\_net\\\\\n",
       "\t train/test split & 0.20123215 & 0.4839213 & 0.3148466 & 152994 & control1 & control2 & Preprocessor1\\_Model1 & elastic\\_net\\\\\n",
       "\t train/test split & 0.04231109 & 0.1696844 & 0.7880045 & 152995 & control2 & test     & Preprocessor1\\_Model1 & elastic\\_net\\\\\n",
       "\t train/test split & 0.09782729 & 0.3589035 & 0.5432693 & 152998 & control2 & control2 & Preprocessor1\\_Model1 & elastic\\_net\\\\\n",
       "\t train/test split & 0.21201970 & 0.5132841 & 0.2746962 & 153003 & control1 & control2 & Preprocessor1\\_Model1 & elastic\\_net\\\\\n",
       "\t train/test split & 0.20123215 & 0.4839213 & 0.3148466 & 153028 & control1 & test     & Preprocessor1\\_Model1 & elastic\\_net\\\\\n",
       "\t train/test split & 0.13924282 & 0.3890719 & 0.4716853 & 153032 & control2 & control2 & Preprocessor1\\_Model1 & elastic\\_net\\\\\n",
       "\t train/test split & 0.27516776 & 0.5073627 & 0.2174695 & 153035 & control1 & control1 & Preprocessor1\\_Model1 & elastic\\_net\\\\\n",
       "\t train/test split & 0.11266515 & 0.2961673 & 0.5911676 & 153038 & control2 & control1 & Preprocessor1\\_Model1 & elastic\\_net\\\\\n",
       "\t train/test split & 0.10761936 & 0.3974773 & 0.4949034 & 153039 & control2 & control2 & Preprocessor1\\_Model1 & elastic\\_net\\\\\n",
       "\t train/test split & 0.31112883 & 0.4083070 & 0.2805641 & 153045 & control1 & control1 & Preprocessor1\\_Model1 & elastic\\_net\\\\\n",
       "\t train/test split & 0.36926378 & 0.5010771 & 0.1296591 & 153049 & control1 & control1 & Preprocessor1\\_Model1 & elastic\\_net\\\\\n",
       "\t train/test split & 0.23031079 & 0.5650728 & 0.2046164 & 153052 & control1 & control1 & Preprocessor1\\_Model1 & elastic\\_net\\\\\n",
       "\t train/test split & 0.13924282 & 0.3890719 & 0.4716853 & 153055 & control2 & control1 & Preprocessor1\\_Model1 & elastic\\_net\\\\\n",
       "\t train/test split & 0.18945941 & 0.4525736 & 0.3579670 & 153056 & control1 & control1 & Preprocessor1\\_Model1 & elastic\\_net\\\\\n",
       "\t train/test split & 0.21201970 & 0.5132841 & 0.2746962 & 153058 & control1 & control1 & Preprocessor1\\_Model1 & elastic\\_net\\\\\n",
       "\t train/test split & 0.21923038 & 0.4508215 & 0.3299481 & 153068 & control1 & control1 & Preprocessor1\\_Model1 & elastic\\_net\\\\\n",
       "\t train/test split & 0.07206429 & 0.2968417 & 0.6310940 & 153092 & control2 & control2 & Preprocessor1\\_Model1 & elastic\\_net\\\\\n",
       "\t train/test split & 0.13924282 & 0.3890719 & 0.4716853 & 153099 & control2 & control1 & Preprocessor1\\_Model1 & elastic\\_net\\\\\n",
       "\t train/test split & 0.03639779 & 0.1449968 & 0.8186054 & 153104 & control2 & control2 & Preprocessor1\\_Model1 & elastic\\_net\\\\\n",
       "\t train/test split & 0.06382792 & 0.2611628 & 0.6750093 & 153105 & control2 & control1 & Preprocessor1\\_Model1 & elastic\\_net\\\\\n",
       "\t train/test split & 0.11498076 & 0.3170105 & 0.5680087 & 153108 & control2 & control2 & Preprocessor1\\_Model1 & elastic\\_net\\\\\n",
       "\t train/test split & 0.26413577 & 0.4837756 & 0.2520886 & 153116 & control1 & control1 & Preprocessor1\\_Model1 & elastic\\_net\\\\\n",
       "\t train/test split & 0.13924282 & 0.3890719 & 0.4716853 & 153128 & control2 & control2 & Preprocessor1\\_Model1 & elastic\\_net\\\\\n",
       "\\end{tabular}\n"
      ],
      "text/markdown": [
       "\n",
       "A tibble: 30628 × 9\n",
       "\n",
       "| id &lt;chr&gt; | .pred_test &lt;dbl&gt; | .pred_control1 &lt;dbl&gt; | .pred_control2 &lt;dbl&gt; | .row &lt;int&gt; | .pred_class &lt;fct&gt; | group &lt;fct&gt; | .config &lt;chr&gt; | model &lt;chr&gt; |\n",
       "|---|---|---|---|---|---|---|---|---|\n",
       "| train/test split | 0.28484746 | 0.5287344 | 0.18641812 |   8 | control1 | control1 | Preprocessor1_Model1 | elastic_net |\n",
       "| train/test split | 0.41647793 | 0.5067304 | 0.07679170 |  11 | control1 | control1 | Preprocessor1_Model1 | elastic_net |\n",
       "| train/test split | 0.18945941 | 0.4525736 | 0.35796695 |  15 | control1 | control1 | Preprocessor1_Model1 | elastic_net |\n",
       "| train/test split | 0.27516776 | 0.5073627 | 0.21746955 |  16 | control1 | control1 | Preprocessor1_Model1 | elastic_net |\n",
       "| train/test split | 0.23031079 | 0.5650728 | 0.20461643 |  17 | control1 | control1 | Preprocessor1_Model1 | elastic_net |\n",
       "| train/test split | 0.42381455 | 0.5225999 | 0.05358557 |  19 | control1 | test     | Preprocessor1_Model1 | elastic_net |\n",
       "| train/test split | 0.11728537 | 0.4360838 | 0.44663082 |  23 | control2 | control1 | Preprocessor1_Model1 | elastic_net |\n",
       "| train/test split | 0.04231109 | 0.1696844 | 0.78800448 |  25 | control2 | control1 | Preprocessor1_Model1 | elastic_net |\n",
       "| train/test split | 0.19142920 | 0.3884218 | 0.42014900 |  26 | control2 | control1 | Preprocessor1_Model1 | elastic_net |\n",
       "| train/test split | 0.07206429 | 0.2968417 | 0.63109401 |  38 | control2 | control2 | Preprocessor1_Model1 | elastic_net |\n",
       "| train/test split | 0.16214561 | 0.4377939 | 0.40006048 |  43 | control1 | control1 | Preprocessor1_Model1 | elastic_net |\n",
       "| train/test split | 0.16214561 | 0.4377939 | 0.40006048 |  44 | control1 | control2 | Preprocessor1_Model1 | elastic_net |\n",
       "| train/test split | 0.07206429 | 0.2968417 | 0.63109401 |  53 | control2 | control2 | Preprocessor1_Model1 | elastic_net |\n",
       "| train/test split | 0.32595782 | 0.4306379 | 0.24340426 |  63 | control1 | test     | Preprocessor1_Model1 | elastic_net |\n",
       "| train/test split | 0.28484746 | 0.5287344 | 0.18641812 |  68 | control1 | control1 | Preprocessor1_Model1 | elastic_net |\n",
       "| train/test split | 0.26413577 | 0.4837756 | 0.25208863 |  74 | control1 | control2 | Preprocessor1_Model1 | elastic_net |\n",
       "| train/test split | 0.04887677 | 0.1973307 | 0.75379258 | 107 | control2 | control2 | Preprocessor1_Model1 | elastic_net |\n",
       "| train/test split | 0.02606376 | 0.1637880 | 0.81014823 | 110 | control2 | control2 | Preprocessor1_Model1 | elastic_net |\n",
       "| train/test split | 0.12513392 | 0.3311516 | 0.54371451 | 111 | control2 | control2 | Preprocessor1_Model1 | elastic_net |\n",
       "| train/test split | 0.12513392 | 0.3311516 | 0.54371451 | 117 | control2 | control2 | Preprocessor1_Model1 | elastic_net |\n",
       "| train/test split | 0.23031079 | 0.5650728 | 0.20461643 | 127 | control1 | control1 | Preprocessor1_Model1 | elastic_net |\n",
       "| train/test split | 0.33917034 | 0.4511002 | 0.20972949 | 128 | control1 | control1 | Preprocessor1_Model1 | elastic_net |\n",
       "| train/test split | 0.35075542 | 0.4696386 | 0.17960602 | 146 | control1 | test     | Preprocessor1_Model1 | elastic_net |\n",
       "| train/test split | 0.09782729 | 0.3589035 | 0.54326926 | 147 | control2 | control1 | Preprocessor1_Model1 | elastic_net |\n",
       "| train/test split | 0.12712392 | 0.3528418 | 0.52003426 | 152 | control2 | control2 | Preprocessor1_Model1 | elastic_net |\n",
       "| train/test split | 0.05606833 | 0.2278841 | 0.71604760 | 155 | control2 | control2 | Preprocessor1_Model1 | elastic_net |\n",
       "| train/test split | 0.12663845 | 0.4740192 | 0.39934230 | 158 | control1 | control1 | Preprocessor1_Model1 | elastic_net |\n",
       "| train/test split | 0.05606833 | 0.2278841 | 0.71604760 | 164 | control2 | control2 | Preprocessor1_Model1 | elastic_net |\n",
       "| train/test split | 0.23167068 | 0.4796001 | 0.28872926 | 174 | control1 | control1 | Preprocessor1_Model1 | elastic_net |\n",
       "| train/test split | 0.04887677 | 0.1973307 | 0.75379258 | 176 | control2 | control2 | Preprocessor1_Model1 | elastic_net |\n",
       "| ⋮ | ⋮ | ⋮ | ⋮ | ⋮ | ⋮ | ⋮ | ⋮ | ⋮ |\n",
       "| train/test split | 0.21201970 | 0.5132841 | 0.2746962 | 152964 | control1 | control2 | Preprocessor1_Model1 | elastic_net |\n",
       "| train/test split | 0.32595782 | 0.4306379 | 0.2434043 | 152969 | control1 | control1 | Preprocessor1_Model1 | elastic_net |\n",
       "| train/test split | 0.06382792 | 0.2611628 | 0.6750093 | 152974 | control2 | control2 | Preprocessor1_Model1 | elastic_net |\n",
       "| train/test split | 0.09782729 | 0.3589035 | 0.5432693 | 152976 | control2 | control1 | Preprocessor1_Model1 | elastic_net |\n",
       "| train/test split | 0.12513392 | 0.3311516 | 0.5437145 | 152981 | control2 | control1 | Preprocessor1_Model1 | elastic_net |\n",
       "| train/test split | 0.10761936 | 0.3974773 | 0.4949034 | 152982 | control2 | control2 | Preprocessor1_Model1 | elastic_net |\n",
       "| train/test split | 0.36075773 | 0.4862720 | 0.1529703 | 152991 | control1 | control1 | Preprocessor1_Model1 | elastic_net |\n",
       "| train/test split | 0.20123215 | 0.4839213 | 0.3148466 | 152994 | control1 | control2 | Preprocessor1_Model1 | elastic_net |\n",
       "| train/test split | 0.04231109 | 0.1696844 | 0.7880045 | 152995 | control2 | test     | Preprocessor1_Model1 | elastic_net |\n",
       "| train/test split | 0.09782729 | 0.3589035 | 0.5432693 | 152998 | control2 | control2 | Preprocessor1_Model1 | elastic_net |\n",
       "| train/test split | 0.21201970 | 0.5132841 | 0.2746962 | 153003 | control1 | control2 | Preprocessor1_Model1 | elastic_net |\n",
       "| train/test split | 0.20123215 | 0.4839213 | 0.3148466 | 153028 | control1 | test     | Preprocessor1_Model1 | elastic_net |\n",
       "| train/test split | 0.13924282 | 0.3890719 | 0.4716853 | 153032 | control2 | control2 | Preprocessor1_Model1 | elastic_net |\n",
       "| train/test split | 0.27516776 | 0.5073627 | 0.2174695 | 153035 | control1 | control1 | Preprocessor1_Model1 | elastic_net |\n",
       "| train/test split | 0.11266515 | 0.2961673 | 0.5911676 | 153038 | control2 | control1 | Preprocessor1_Model1 | elastic_net |\n",
       "| train/test split | 0.10761936 | 0.3974773 | 0.4949034 | 153039 | control2 | control2 | Preprocessor1_Model1 | elastic_net |\n",
       "| train/test split | 0.31112883 | 0.4083070 | 0.2805641 | 153045 | control1 | control1 | Preprocessor1_Model1 | elastic_net |\n",
       "| train/test split | 0.36926378 | 0.5010771 | 0.1296591 | 153049 | control1 | control1 | Preprocessor1_Model1 | elastic_net |\n",
       "| train/test split | 0.23031079 | 0.5650728 | 0.2046164 | 153052 | control1 | control1 | Preprocessor1_Model1 | elastic_net |\n",
       "| train/test split | 0.13924282 | 0.3890719 | 0.4716853 | 153055 | control2 | control1 | Preprocessor1_Model1 | elastic_net |\n",
       "| train/test split | 0.18945941 | 0.4525736 | 0.3579670 | 153056 | control1 | control1 | Preprocessor1_Model1 | elastic_net |\n",
       "| train/test split | 0.21201970 | 0.5132841 | 0.2746962 | 153058 | control1 | control1 | Preprocessor1_Model1 | elastic_net |\n",
       "| train/test split | 0.21923038 | 0.4508215 | 0.3299481 | 153068 | control1 | control1 | Preprocessor1_Model1 | elastic_net |\n",
       "| train/test split | 0.07206429 | 0.2968417 | 0.6310940 | 153092 | control2 | control2 | Preprocessor1_Model1 | elastic_net |\n",
       "| train/test split | 0.13924282 | 0.3890719 | 0.4716853 | 153099 | control2 | control1 | Preprocessor1_Model1 | elastic_net |\n",
       "| train/test split | 0.03639779 | 0.1449968 | 0.8186054 | 153104 | control2 | control2 | Preprocessor1_Model1 | elastic_net |\n",
       "| train/test split | 0.06382792 | 0.2611628 | 0.6750093 | 153105 | control2 | control1 | Preprocessor1_Model1 | elastic_net |\n",
       "| train/test split | 0.11498076 | 0.3170105 | 0.5680087 | 153108 | control2 | control2 | Preprocessor1_Model1 | elastic_net |\n",
       "| train/test split | 0.26413577 | 0.4837756 | 0.2520886 | 153116 | control1 | control1 | Preprocessor1_Model1 | elastic_net |\n",
       "| train/test split | 0.13924282 | 0.3890719 | 0.4716853 | 153128 | control2 | control2 | Preprocessor1_Model1 | elastic_net |\n",
       "\n"
      ],
      "text/plain": [
       "      id               .pred_test .pred_control1 .pred_control2 .row  \n",
       "1     train/test split 0.28484746 0.5287344      0.18641812       8   \n",
       "2     train/test split 0.41647793 0.5067304      0.07679170      11   \n",
       "3     train/test split 0.18945941 0.4525736      0.35796695      15   \n",
       "4     train/test split 0.27516776 0.5073627      0.21746955      16   \n",
       "5     train/test split 0.23031079 0.5650728      0.20461643      17   \n",
       "6     train/test split 0.42381455 0.5225999      0.05358557      19   \n",
       "7     train/test split 0.11728537 0.4360838      0.44663082      23   \n",
       "8     train/test split 0.04231109 0.1696844      0.78800448      25   \n",
       "9     train/test split 0.19142920 0.3884218      0.42014900      26   \n",
       "10    train/test split 0.07206429 0.2968417      0.63109401      38   \n",
       "11    train/test split 0.16214561 0.4377939      0.40006048      43   \n",
       "12    train/test split 0.16214561 0.4377939      0.40006048      44   \n",
       "13    train/test split 0.07206429 0.2968417      0.63109401      53   \n",
       "14    train/test split 0.32595782 0.4306379      0.24340426      63   \n",
       "15    train/test split 0.28484746 0.5287344      0.18641812      68   \n",
       "16    train/test split 0.26413577 0.4837756      0.25208863      74   \n",
       "17    train/test split 0.04887677 0.1973307      0.75379258     107   \n",
       "18    train/test split 0.02606376 0.1637880      0.81014823     110   \n",
       "19    train/test split 0.12513392 0.3311516      0.54371451     111   \n",
       "20    train/test split 0.12513392 0.3311516      0.54371451     117   \n",
       "21    train/test split 0.23031079 0.5650728      0.20461643     127   \n",
       "22    train/test split 0.33917034 0.4511002      0.20972949     128   \n",
       "23    train/test split 0.35075542 0.4696386      0.17960602     146   \n",
       "24    train/test split 0.09782729 0.3589035      0.54326926     147   \n",
       "25    train/test split 0.12712392 0.3528418      0.52003426     152   \n",
       "26    train/test split 0.05606833 0.2278841      0.71604760     155   \n",
       "27    train/test split 0.12663845 0.4740192      0.39934230     158   \n",
       "28    train/test split 0.05606833 0.2278841      0.71604760     164   \n",
       "29    train/test split 0.23167068 0.4796001      0.28872926     174   \n",
       "30    train/test split 0.04887677 0.1973307      0.75379258     176   \n",
       "⋮     ⋮                ⋮          ⋮              ⋮              ⋮     \n",
       "30599 train/test split 0.21201970 0.5132841      0.2746962      152964\n",
       "30600 train/test split 0.32595782 0.4306379      0.2434043      152969\n",
       "30601 train/test split 0.06382792 0.2611628      0.6750093      152974\n",
       "30602 train/test split 0.09782729 0.3589035      0.5432693      152976\n",
       "30603 train/test split 0.12513392 0.3311516      0.5437145      152981\n",
       "30604 train/test split 0.10761936 0.3974773      0.4949034      152982\n",
       "30605 train/test split 0.36075773 0.4862720      0.1529703      152991\n",
       "30606 train/test split 0.20123215 0.4839213      0.3148466      152994\n",
       "30607 train/test split 0.04231109 0.1696844      0.7880045      152995\n",
       "30608 train/test split 0.09782729 0.3589035      0.5432693      152998\n",
       "30609 train/test split 0.21201970 0.5132841      0.2746962      153003\n",
       "30610 train/test split 0.20123215 0.4839213      0.3148466      153028\n",
       "30611 train/test split 0.13924282 0.3890719      0.4716853      153032\n",
       "30612 train/test split 0.27516776 0.5073627      0.2174695      153035\n",
       "30613 train/test split 0.11266515 0.2961673      0.5911676      153038\n",
       "30614 train/test split 0.10761936 0.3974773      0.4949034      153039\n",
       "30615 train/test split 0.31112883 0.4083070      0.2805641      153045\n",
       "30616 train/test split 0.36926378 0.5010771      0.1296591      153049\n",
       "30617 train/test split 0.23031079 0.5650728      0.2046164      153052\n",
       "30618 train/test split 0.13924282 0.3890719      0.4716853      153055\n",
       "30619 train/test split 0.18945941 0.4525736      0.3579670      153056\n",
       "30620 train/test split 0.21201970 0.5132841      0.2746962      153058\n",
       "30621 train/test split 0.21923038 0.4508215      0.3299481      153068\n",
       "30622 train/test split 0.07206429 0.2968417      0.6310940      153092\n",
       "30623 train/test split 0.13924282 0.3890719      0.4716853      153099\n",
       "30624 train/test split 0.03639779 0.1449968      0.8186054      153104\n",
       "30625 train/test split 0.06382792 0.2611628      0.6750093      153105\n",
       "30626 train/test split 0.11498076 0.3170105      0.5680087      153108\n",
       "30627 train/test split 0.26413577 0.4837756      0.2520886      153116\n",
       "30628 train/test split 0.13924282 0.3890719      0.4716853      153128\n",
       "      .pred_class group    .config              model      \n",
       "1     control1    control1 Preprocessor1_Model1 elastic_net\n",
       "2     control1    control1 Preprocessor1_Model1 elastic_net\n",
       "3     control1    control1 Preprocessor1_Model1 elastic_net\n",
       "4     control1    control1 Preprocessor1_Model1 elastic_net\n",
       "5     control1    control1 Preprocessor1_Model1 elastic_net\n",
       "6     control1    test     Preprocessor1_Model1 elastic_net\n",
       "7     control2    control1 Preprocessor1_Model1 elastic_net\n",
       "8     control2    control1 Preprocessor1_Model1 elastic_net\n",
       "9     control2    control1 Preprocessor1_Model1 elastic_net\n",
       "10    control2    control2 Preprocessor1_Model1 elastic_net\n",
       "11    control1    control1 Preprocessor1_Model1 elastic_net\n",
       "12    control1    control2 Preprocessor1_Model1 elastic_net\n",
       "13    control2    control2 Preprocessor1_Model1 elastic_net\n",
       "14    control1    test     Preprocessor1_Model1 elastic_net\n",
       "15    control1    control1 Preprocessor1_Model1 elastic_net\n",
       "16    control1    control2 Preprocessor1_Model1 elastic_net\n",
       "17    control2    control2 Preprocessor1_Model1 elastic_net\n",
       "18    control2    control2 Preprocessor1_Model1 elastic_net\n",
       "19    control2    control2 Preprocessor1_Model1 elastic_net\n",
       "20    control2    control2 Preprocessor1_Model1 elastic_net\n",
       "21    control1    control1 Preprocessor1_Model1 elastic_net\n",
       "22    control1    control1 Preprocessor1_Model1 elastic_net\n",
       "23    control1    test     Preprocessor1_Model1 elastic_net\n",
       "24    control2    control1 Preprocessor1_Model1 elastic_net\n",
       "25    control2    control2 Preprocessor1_Model1 elastic_net\n",
       "26    control2    control2 Preprocessor1_Model1 elastic_net\n",
       "27    control1    control1 Preprocessor1_Model1 elastic_net\n",
       "28    control2    control2 Preprocessor1_Model1 elastic_net\n",
       "29    control1    control1 Preprocessor1_Model1 elastic_net\n",
       "30    control2    control2 Preprocessor1_Model1 elastic_net\n",
       "⋮     ⋮           ⋮        ⋮                    ⋮          \n",
       "30599 control1    control2 Preprocessor1_Model1 elastic_net\n",
       "30600 control1    control1 Preprocessor1_Model1 elastic_net\n",
       "30601 control2    control2 Preprocessor1_Model1 elastic_net\n",
       "30602 control2    control1 Preprocessor1_Model1 elastic_net\n",
       "30603 control2    control1 Preprocessor1_Model1 elastic_net\n",
       "30604 control2    control2 Preprocessor1_Model1 elastic_net\n",
       "30605 control1    control1 Preprocessor1_Model1 elastic_net\n",
       "30606 control1    control2 Preprocessor1_Model1 elastic_net\n",
       "30607 control2    test     Preprocessor1_Model1 elastic_net\n",
       "30608 control2    control2 Preprocessor1_Model1 elastic_net\n",
       "30609 control1    control2 Preprocessor1_Model1 elastic_net\n",
       "30610 control1    test     Preprocessor1_Model1 elastic_net\n",
       "30611 control2    control2 Preprocessor1_Model1 elastic_net\n",
       "30612 control1    control1 Preprocessor1_Model1 elastic_net\n",
       "30613 control2    control1 Preprocessor1_Model1 elastic_net\n",
       "30614 control2    control2 Preprocessor1_Model1 elastic_net\n",
       "30615 control1    control1 Preprocessor1_Model1 elastic_net\n",
       "30616 control1    control1 Preprocessor1_Model1 elastic_net\n",
       "30617 control1    control1 Preprocessor1_Model1 elastic_net\n",
       "30618 control2    control1 Preprocessor1_Model1 elastic_net\n",
       "30619 control1    control1 Preprocessor1_Model1 elastic_net\n",
       "30620 control1    control1 Preprocessor1_Model1 elastic_net\n",
       "30621 control1    control1 Preprocessor1_Model1 elastic_net\n",
       "30622 control2    control2 Preprocessor1_Model1 elastic_net\n",
       "30623 control2    control1 Preprocessor1_Model1 elastic_net\n",
       "30624 control2    control2 Preprocessor1_Model1 elastic_net\n",
       "30625 control2    control1 Preprocessor1_Model1 elastic_net\n",
       "30626 control2    control2 Preprocessor1_Model1 elastic_net\n",
       "30627 control1    control1 Preprocessor1_Model1 elastic_net\n",
       "30628 control2    control2 Preprocessor1_Model1 elastic_net"
      ]
     },
     "metadata": {},
     "output_type": "display_data"
    }
   ],
   "source": [
    "test(elastic_net, \"elastic_net\", split)"
   ]
  }
 ],
 "metadata": {
  "kernelspec": {
   "display_name": "R",
   "language": "R",
   "name": "ir"
  },
  "language_info": {
   "codemirror_mode": "r",
   "file_extension": ".r",
   "mimetype": "text/x-r-source",
   "name": "R",
   "pygments_lexer": "r",
   "version": "4.3.1"
  }
 },
 "nbformat": 4,
 "nbformat_minor": 5
}
